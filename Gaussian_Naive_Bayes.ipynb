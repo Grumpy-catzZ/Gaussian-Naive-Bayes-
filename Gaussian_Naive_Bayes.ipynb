{
  "nbformat": 4,
  "nbformat_minor": 0,
  "metadata": {
    "colab": {
      "name": "Gaussian Naive Bayes",
      "provenance": [],
      "authorship_tag": "ABX9TyOJ2oDxIvHIRvUDSmp4x7G4",
      "include_colab_link": true
    },
    "kernelspec": {
      "name": "python3",
      "display_name": "Python 3"
    }
  },
  "cells": [
    {
      "cell_type": "markdown",
      "metadata": {
        "id": "view-in-github",
        "colab_type": "text"
      },
      "source": [
        "<a href=\"https://colab.research.google.com/github/Grumpy-catzZ/Gaussian-Naive-Bayes-/blob/main/Gaussian_Naive_Bayes.ipynb\" target=\"_parent\"><img src=\"https://colab.research.google.com/assets/colab-badge.svg\" alt=\"Open In Colab\"/></a>"
      ]
    },
    {
      "cell_type": "markdown",
      "metadata": {
        "id": "srTHl-fXprsJ"
      },
      "source": [
        "Gaussian Naive Bayes from scratch"
      ]
    },
    {
      "cell_type": "markdown",
      "metadata": {
        "id": "fJg9VtrXyVOD"
      },
      "source": [
        "# Binary classification"
      ]
    },
    {
      "cell_type": "code",
      "metadata": {
        "id": "8yPZ0HtXxbha"
      },
      "source": [
        "import pandas as pd\r\n",
        "import numpy as np\r\n",
        "from sklearn.datasets import load_iris, load_breast_cancer\r\n",
        "from math import sqrt,pow,exp\r\n",
        "import collections"
      ],
      "execution_count": null,
      "outputs": []
    },
    {
      "cell_type": "code",
      "metadata": {
        "id": "gGz3L2RMptng"
      },
      "source": [
        "cancer = load_breast_cancer()\r\n",
        "x = pd.DataFrame(cancer.data , columns =cancer.feature_names)\r\n",
        "y = pd.DataFrame(cancer.target) \r\n",
        "x['label'] = y"
      ],
      "execution_count": null,
      "outputs": []
    },
    {
      "cell_type": "code",
      "metadata": {
        "colab": {
          "base_uri": "https://localhost:8080/"
        },
        "id": "lYZl44xYBj9s",
        "outputId": "bc6c81cd-326c-4c88-f007-43189f52837a"
      },
      "source": [
        "x.shape"
      ],
      "execution_count": null,
      "outputs": [
        {
          "output_type": "execute_result",
          "data": {
            "text/plain": [
              "(569, 31)"
            ]
          },
          "metadata": {
            "tags": []
          },
          "execution_count": 12
        }
      ]
    },
    {
      "cell_type": "code",
      "metadata": {
        "colab": {
          "base_uri": "https://localhost:8080/"
        },
        "id": "y7gwrA0lw-OT",
        "outputId": "3dee7c17-8d32-4c97-dc37-de054e623c9a"
      },
      "source": [
        "x['label'].unique()"
      ],
      "execution_count": null,
      "outputs": [
        {
          "output_type": "execute_result",
          "data": {
            "text/plain": [
              "array([0, 1])"
            ]
          },
          "metadata": {
            "tags": []
          },
          "execution_count": 15
        }
      ]
    },
    {
      "cell_type": "code",
      "metadata": {
        "id": "52XGClvNyALK"
      },
      "source": [
        "#should input complete df of target variable(y)\r\n",
        "\r\n",
        "#class0 = label.value_counts()[0]   #wont always work because if class has more examples then it will come first, so there is no surity that \r\n",
        "                                            #[0] value always correspond to class 0\r\n",
        "  \r\n",
        "def prior_prob( target ):\r\n",
        "    \r\n",
        "    target = target.to_numpy().ravel()\r\n",
        "    y_count = collections.Counter(target)\r\n",
        "    prior_probs = np.ones(2)\r\n",
        "\r\n",
        "    for i in range(0,2):\r\n",
        "      prior_probs[i] = y_count[i]/len(target)\r\n",
        "    \r\n",
        "    return prior_probs\r\n",
        "\r\n",
        "\r\n",
        "\r\n"
      ],
      "execution_count": null,
      "outputs": []
    },
    {
      "cell_type": "code",
      "metadata": {
        "id": "ALeOKhnVw-tt"
      },
      "source": [
        "#calcualte mean and std_dev for all features + sepearatly for 2 classes. \r\n",
        "#another approach can be to use df.describe()\r\n",
        "\r\n",
        "#pass xtrain and ytrain ,easier for user\r\n",
        "\r\n",
        "def mean_std(xtr ,ytr ): \r\n",
        "  xtr['label'] = ytr\r\n",
        "  mean =x.groupby('label').mean()\r\n",
        "  std_dev = x.groupby('label').std()\r\n",
        "\r\n",
        "\r\n",
        "  '''\r\n",
        "  meann = np.ones((2,x.shape[1]))  #row1 - mean of class  0 , row2- mean of class 1\r\n",
        "  std_devv = np.ones((2,x.shape[1]))  #row1 - std_dev of class  0 , row2- std_dev of class 1\r\n",
        "\r\n",
        " \r\n",
        " \r\n",
        "  for i in range(0,x.shape[1]):\r\n",
        "    stats[0][i] = x.iloc[:,i].mean()\r\n",
        "    stats[1][i] = x.iloc[:,i].std()\r\n",
        "'''\r\n",
        "  \r\n",
        "  return mean, std_dev\r\n"
      ],
      "execution_count": null,
      "outputs": []
    },
    {
      "cell_type": "code",
      "metadata": {
        "id": "RYhLusscmpJ1"
      },
      "source": [
        "priorprobs = prior_prob(ytrain)"
      ],
      "execution_count": null,
      "outputs": []
    },
    {
      "cell_type": "code",
      "metadata": {
        "id": "SWrEfbIOmxDT"
      },
      "source": [
        "m ,s  = mean_std(xtrain , ytrain)"
      ],
      "execution_count": null,
      "outputs": []
    },
    {
      "cell_type": "code",
      "metadata": {
        "id": "e29UlyBM1g-q"
      },
      "source": [
        "def gaussian_dist(x,mean,std):\r\n",
        "  \r\n",
        "  power_term = (x-mean)/std\r\n",
        "  \r\n",
        "  fx = (1/sqrt(2*3.14*std)) * exp(-0.5\r\n",
        "                                 * pow(power_term,2))\r\n",
        "  return fx"
      ],
      "execution_count": null,
      "outputs": []
    },
    {
      "cell_type": "code",
      "metadata": {
        "id": "VuYDdySW54nf"
      },
      "source": [
        "def predict_prob(mean,stddev ,prior_ , testcase ):                           #test should be a single row df of a test case\r\n",
        "  prob0 ,prob1 =1,1   \r\n",
        "  pr=np.ones(2)\r\n",
        "  \r\n",
        "  for i in range(0,test.shape[1]):\r\n",
        "    prob0 = prob0*gaussian_dist(testcase.iloc[0,i], mean.iloc[0,i], stddev.iloc[0,i] )\r\n",
        "    prob1 = prob1*gaussian_dist(testcase.iloc[0,i], mean.iloc[1,i], stddev.iloc[1,i] )\r\n",
        "  \r\n",
        "  pr[0] = prob0*prior_[0]                  \r\n",
        "  pr[1] = prob1*prior_[1]  \r\n",
        "  \r\n",
        "  return pr  \r\n",
        "\r\n"
      ],
      "execution_count": null,
      "outputs": []
    },
    {
      "cell_type": "code",
      "metadata": {
        "colab": {
          "base_uri": "https://localhost:8080/"
        },
        "id": "ZGNWfSJ-n1Al",
        "outputId": "e0ce62b2-b2b7-442f-874e-5d1569add275"
      },
      "source": [
        "predict_prob( m ,s , priorprobs , test)"
      ],
      "execution_count": null,
      "outputs": [
        {
          "output_type": "execute_result",
          "data": {
            "text/plain": [
              "array([3.03045330e-21, 6.18364147e-06])"
            ]
          },
          "metadata": {
            "tags": []
          },
          "execution_count": 112
        }
      ]
    },
    {
      "cell_type": "code",
      "metadata": {
        "id": "JGV4N7nUJDKn"
      },
      "source": [
        "from sklearn.model_selection import train_test_split\r\n",
        "\r\n",
        "xtrain ,xtest , ytrain , ytest = train_test_split(x,y,test_size = 0.3)\r\n"
      ],
      "execution_count": null,
      "outputs": []
    },
    {
      "cell_type": "code",
      "metadata": {
        "colab": {
          "base_uri": "https://localhost:8080/"
        },
        "id": "GgndVF74fiMw",
        "outputId": "312bc67d-a149-4082-9eb3-2854bab961a3"
      },
      "source": [
        "ytrain.value_counts()"
      ],
      "execution_count": null,
      "outputs": [
        {
          "output_type": "execute_result",
          "data": {
            "text/plain": [
              "1    252\n",
              "0    146\n",
              "dtype: int64"
            ]
          },
          "metadata": {
            "tags": []
          },
          "execution_count": 85
        }
      ]
    },
    {
      "cell_type": "code",
      "metadata": {
        "id": "QZw2aqWrKtv4"
      },
      "source": [
        "test = pd.DataFrame(xtest.iloc[0 , :-1 ]).transpose()"
      ],
      "execution_count": null,
      "outputs": []
    },
    {
      "cell_type": "code",
      "metadata": {
        "id": "ghBcJK9oKB2_",
        "colab": {
          "base_uri": "https://localhost:8080/",
          "height": 130
        },
        "outputId": "fcd8b9de-684e-48f8-a0c4-53e1bb9bc348"
      },
      "source": [
        "test"
      ],
      "execution_count": null,
      "outputs": [
        {
          "output_type": "execute_result",
          "data": {
            "text/html": [
              "<div>\n",
              "<style scoped>\n",
              "    .dataframe tbody tr th:only-of-type {\n",
              "        vertical-align: middle;\n",
              "    }\n",
              "\n",
              "    .dataframe tbody tr th {\n",
              "        vertical-align: top;\n",
              "    }\n",
              "\n",
              "    .dataframe thead th {\n",
              "        text-align: right;\n",
              "    }\n",
              "</style>\n",
              "<table border=\"1\" class=\"dataframe\">\n",
              "  <thead>\n",
              "    <tr style=\"text-align: right;\">\n",
              "      <th></th>\n",
              "      <th>mean radius</th>\n",
              "      <th>mean texture</th>\n",
              "      <th>mean perimeter</th>\n",
              "      <th>mean area</th>\n",
              "      <th>mean smoothness</th>\n",
              "      <th>mean compactness</th>\n",
              "      <th>mean concavity</th>\n",
              "      <th>mean concave points</th>\n",
              "      <th>mean symmetry</th>\n",
              "      <th>mean fractal dimension</th>\n",
              "      <th>radius error</th>\n",
              "      <th>texture error</th>\n",
              "      <th>perimeter error</th>\n",
              "      <th>area error</th>\n",
              "      <th>smoothness error</th>\n",
              "      <th>compactness error</th>\n",
              "      <th>concavity error</th>\n",
              "      <th>concave points error</th>\n",
              "      <th>symmetry error</th>\n",
              "      <th>fractal dimension error</th>\n",
              "      <th>worst radius</th>\n",
              "      <th>worst texture</th>\n",
              "      <th>worst perimeter</th>\n",
              "      <th>worst area</th>\n",
              "      <th>worst smoothness</th>\n",
              "      <th>worst compactness</th>\n",
              "      <th>worst concavity</th>\n",
              "      <th>worst concave points</th>\n",
              "      <th>worst symmetry</th>\n",
              "      <th>worst fractal dimension</th>\n",
              "    </tr>\n",
              "  </thead>\n",
              "  <tbody>\n",
              "    <tr>\n",
              "      <th>467</th>\n",
              "      <td>9.668</td>\n",
              "      <td>18.1</td>\n",
              "      <td>61.06</td>\n",
              "      <td>286.3</td>\n",
              "      <td>0.08311</td>\n",
              "      <td>0.05428</td>\n",
              "      <td>0.01479</td>\n",
              "      <td>0.005769</td>\n",
              "      <td>0.168</td>\n",
              "      <td>0.06412</td>\n",
              "      <td>0.3416</td>\n",
              "      <td>1.312</td>\n",
              "      <td>2.275</td>\n",
              "      <td>20.98</td>\n",
              "      <td>0.01098</td>\n",
              "      <td>0.01257</td>\n",
              "      <td>0.01031</td>\n",
              "      <td>0.003934</td>\n",
              "      <td>0.02693</td>\n",
              "      <td>0.002979</td>\n",
              "      <td>11.15</td>\n",
              "      <td>24.62</td>\n",
              "      <td>71.11</td>\n",
              "      <td>380.2</td>\n",
              "      <td>0.1388</td>\n",
              "      <td>0.1255</td>\n",
              "      <td>0.06409</td>\n",
              "      <td>0.025</td>\n",
              "      <td>0.3057</td>\n",
              "      <td>0.07875</td>\n",
              "    </tr>\n",
              "  </tbody>\n",
              "</table>\n",
              "</div>"
            ],
            "text/plain": [
              "     mean radius  mean texture  ...  worst symmetry  worst fractal dimension\n",
              "467        9.668          18.1  ...          0.3057                  0.07875\n",
              "\n",
              "[1 rows x 30 columns]"
            ]
          },
          "metadata": {
            "tags": []
          },
          "execution_count": 109
        }
      ]
    },
    {
      "cell_type": "code",
      "metadata": {
        "colab": {
          "base_uri": "https://localhost:8080/"
        },
        "id": "oFCYnfefoSWN",
        "outputId": "9423f52e-bad1-4e3c-f195-00144e0d0746"
      },
      "source": [
        "x.iloc[467,:]"
      ],
      "execution_count": null,
      "outputs": [
        {
          "output_type": "execute_result",
          "data": {
            "text/plain": [
              "mean radius                  9.668000\n",
              "mean texture                18.100000\n",
              "mean perimeter              61.060000\n",
              "mean area                  286.300000\n",
              "mean smoothness              0.083110\n",
              "mean compactness             0.054280\n",
              "mean concavity               0.014790\n",
              "mean concave points          0.005769\n",
              "mean symmetry                0.168000\n",
              "mean fractal dimension       0.064120\n",
              "radius error                 0.341600\n",
              "texture error                1.312000\n",
              "perimeter error              2.275000\n",
              "area error                  20.980000\n",
              "smoothness error             0.010980\n",
              "compactness error            0.012570\n",
              "concavity error              0.010310\n",
              "concave points error         0.003934\n",
              "symmetry error               0.026930\n",
              "fractal dimension error      0.002979\n",
              "worst radius                11.150000\n",
              "worst texture               24.620000\n",
              "worst perimeter             71.110000\n",
              "worst area                 380.200000\n",
              "worst smoothness             0.138800\n",
              "worst compactness            0.125500\n",
              "worst concavity              0.064090\n",
              "worst concave points         0.025000\n",
              "worst symmetry               0.305700\n",
              "worst fractal dimension      0.078750\n",
              "label                        1.000000\n",
              "Name: 467, dtype: float64"
            ]
          },
          "metadata": {
            "tags": []
          },
          "execution_count": 113
        }
      ]
    },
    {
      "cell_type": "code",
      "metadata": {
        "id": "6Nqk4a_PojGZ"
      },
      "source": [
        ""
      ],
      "execution_count": null,
      "outputs": []
    }
  ]
}